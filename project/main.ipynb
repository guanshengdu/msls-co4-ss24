{
 "cells": [
  {
   "cell_type": "markdown",
   "metadata": {},
   "source": [
    "# Project work: A mini segmentation challenge\n",
    "\n",
    "Imaging for the Life Sciences  \n",
    "MSLS / CO4: Project work\n",
    "\n",
    "**Student**: $\\Rightarrow$  YOUR NAME  \n",
    "**University**: $\\Rightarrow$  YOUR UNIVERSITY  \n",
    "**Semester**: $\\Rightarrow$  YOUR SEMESTER  \n",
    "**Date**: $\\Rightarrow$  DATE OF SUBMISSION\n",
    "\n",
    "\n",
    "<br><br><br>\n",
    "## Table of contents\n",
    "<!-- Unfortunately, the following does not always work correctly -->\n",
    "* [1. Dataset](#sec_dataset)  \n",
    "* [2. Preprocessing](#sec_preprocessing)  \n",
    "* [3. Manual segmentation](#sec_manual_segmentation)  \n",
    "* [4. Automated segmentation](#sec_automated_segmentation)  \n",
    "* [5. Evaluation](#sec_evaluation)  \n",
    "* [6. Discussion](#sec_discussion)  \n",
    "* [*. Hints](#sec_hints)  \n"
   ]
  },
  {
   "cell_type": "markdown",
   "metadata": {},
   "source": [
    "---\n",
    "\n",
    "## Prerequisites / Setup\n",
    "\n",
    "$\\Rightarrow$  Special setup instructions, imports and configurations go here."
   ]
  },
  {
   "cell_type": "code",
   "execution_count": null,
   "metadata": {},
   "outputs": [],
   "source": [
    "import numpy as np\n",
    "import matplotlib.pyplot as plt\n",
    "import cv2 as cv\n",
    "import nibabel as nib\n",
    "import pydicom\n",
    "import PIL\n",
    "\n",
    "# Jupyter / IPython configuration:\n",
    "# Automatically reload modules when modified\n",
    "%load_ext autoreload\n",
    "%autoreload 2\n",
    "\n",
    "# Enable vectorized output (for nicer plots)\n",
    "%config InlineBackend.figure_formats = [\"svg\"]\n",
    "\n",
    "# Inline backend configuration\n",
    "%matplotlib inline\n",
    "\n",
    "# Enable this line if you want to use the interactive widgets\n",
    "# It requires the ipympl package to be installed.\n",
    "#%matplotlib widget\n",
    "\n",
    "import sys\n",
    "sys.path.insert(0, \"../\")\n",
    "import tools"
   ]
  },
  {
   "cell_type": "markdown",
   "metadata": {},
   "source": [
    "---\n",
    "\n",
    "\n",
    "<a id='sec_dataset'></a>\n",
    "\n",
    "## Dataset\n",
    "\n",
    "$\\Rightarrow$ Describe your dataset.\n",
    "\n",
    "### Requirements:\n",
    "* Dataset of at least 10 image samples\n",
    "* The data set must not be larger than 200 MB. If your data is larger, please contact the tutor.\n",
    "* Make sure you have the right to use the data and share it with others (check the usage license!)\n",
    "* A structure of interest should be easily recognizable in these samples\n",
    "* Avoid data with too much variation\n",
    "* All students will use different datasets!\n"
   ]
  },
  {
   "cell_type": "markdown",
   "metadata": {},
   "source": [
    "---\n",
    "\n",
    "<a id='sec_preprocessing'></a>\n",
    "\n",
    "## Preprocessing\n",
    "\n",
    "$\\Rightarrow$ Describe the pre-processing that was required to complete the segmentation task.\n",
    "\n",
    "\n",
    "### Goals:\n",
    "* Choose a method that scales well for larger datasets\n",
    "* Improve the datasets for easier processing"
   ]
  },
  {
   "cell_type": "markdown",
   "metadata": {},
   "source": [
    "---\n",
    "\n",
    "<a id='sec_manual_segmentation'></a>\n",
    "\n",
    "## Manual segmentation\n",
    "\n",
    "$\\Rightarrow$ Describe the manual segmentation step\n",
    "\n",
    "\n",
    "### Goals:\n",
    "* Segment structures of interest using a tool  \n",
    "* These structures you need to \n",
    "* If you find a dataset that comes with segmentation masks, you still need to demonstrate how to create such masks!"
   ]
  },
  {
   "cell_type": "markdown",
   "metadata": {},
   "source": [
    "---\n",
    "\n",
    "<a id='sec_automated_segmentation'></a>\n",
    "\n",
    "## Automated segmentation\n",
    "\n",
    "$\\Rightarrow$ Describe how to segment the image in Python\n",
    "\n",
    "\n",
    "### Goals:\n",
    "* The segmentation must be performed in Python.\n",
    "* Using an external library or tool (e.g. OpenCV) is permitted.\n",
    "* Implement a function `segment(image, ...)` takes an image as input and creates a segmentation mask for the structure of interest."
   ]
  },
  {
   "cell_type": "markdown",
   "metadata": {},
   "source": [
    "---\n",
    "\n",
    "<a id='sec_evaluation'></a>\n",
    "\n",
    "## Evaluation\n",
    "\n",
    "$\\Rightarrow$ Describe the evaluation of your results\n",
    "\n",
    "\n",
    "### Goals:\n",
    "* Choose an evaluation method that can compare two binary segmentation masks and computes a numeric score that describes how well these masks match (use for example the Dice score)\n",
    "* Hint: specify a function `evaluate(mask1, mask2)` that computes the evaluation score(s)\n",
    "* Compute mean and standard deviation of the scores of the entire dataset"
   ]
  },
  {
   "cell_type": "markdown",
   "metadata": {},
   "source": [
    "---\n",
    "\n",
    "<a id='sec_discussion'></a>\n",
    "\n",
    "## Discussion\n",
    "\n",
    "$\\Rightarrow$ Discuss your results and experiences briefly.\n",
    "\n",
    "\n"
   ]
  },
  {
   "cell_type": "markdown",
   "metadata": {},
   "source": [
    "---\n",
    "\n",
    "<a id='sec_references'></a>\n",
    "\n",
    "## References\n",
    "\n",
    "$\\Rightarrow$ Add here references as URLs.\n",
    "\n",
    "Also declare the usage of **generative AI** here!!\n",
    "\n"
   ]
  },
  {
   "cell_type": "markdown",
   "metadata": {},
   "source": [
    "\n",
    "<br><br><br><br><br><br><br><br>\n",
    "\n",
    "---\n",
    "\n",
    "<a id='sec_hints'></a>\n",
    "\n",
    "## Hints:\n",
    "* Display your data if possible.\n",
    "* An easy way to show 2D images is using Pillow:\n"
   ]
  },
  {
   "cell_type": "code",
   "execution_count": null,
   "metadata": {},
   "outputs": [],
   "source": [
    "# Displayin an image with Pillow\n",
    "path = \"../data/images/kidney-cells.jpg\"\n",
    "path = \"../data/images/histology-image.jpg\"\n",
    "image = PIL.Image.open(path)\n",
    "display(image)                  "
   ]
  },
  {
   "cell_type": "code",
   "execution_count": null,
   "metadata": {},
   "outputs": [],
   "source": [
    "# If you keep the data as a numpy array (for example when using\n",
    "# the OpenCV interface), you can use matplotlib to display it.\n",
    "path = \"../data/images/ct-brain-slices.jpg\"\n",
    "image = cv.imread(path)\n",
    "plt.imshow(image)\n",
    "plt.axis(\"off\");\n"
   ]
  },
  {
   "cell_type": "code",
   "execution_count": null,
   "metadata": {},
   "outputs": [],
   "source": [
    "# For convenience, we also provide tools.display_image()\n",
    "path = \"../data/images/kidney-cells.jpg\"\n",
    "tools.display_image(path, scale=0.5)"
   ]
  },
  {
   "cell_type": "markdown",
   "metadata": {},
   "source": [
    "There are many ways how to overlay an image with the mask. Here is one option:"
   ]
  },
  {
   "cell_type": "code",
   "execution_count": null,
   "metadata": {},
   "outputs": [],
   "source": [
    "# Enforce a (3-channel) color image\n",
    "path_image = \"../data/images/neurons-cultured.jpg\"\n",
    "image = cv.imread(path_image, cv.IMREAD_COLOR)\n",
    "image = cv.cvtColor(image, cv.COLOR_BGR2RGB)\n",
    "\n",
    "# Mask image\n",
    "path_mask = \"../data/images/neurons-cultured-mask.png\"\n",
    "mask = cv.imread(path_mask, cv.IMREAD_GRAYSCALE)\n",
    "\n",
    "# Create overlay (RGB)\n",
    "overlay_color = [255, 0, 0]\n",
    "overlay_alpha = 0.3\n",
    "overlay = image.copy()\n",
    "overlay[mask > 0] = overlay_color\n",
    "overlay = cv.addWeighted(image, 1 - overlay_alpha, overlay, overlay_alpha, 0)\n",
    "\n",
    "# Display the images next to each other using a convenience function\n",
    "tools.show_image_chain((image, overlay), titles=(\"Input\", \"Overlay\"))\n"
   ]
  },
  {
   "cell_type": "code",
   "execution_count": null,
   "metadata": {},
   "outputs": [],
   "source": [
    "# We could also create contours around the mask and display them\n",
    "overlay_color = [255, 255, 0]\n",
    "line_width = 1\n",
    "contours, _ = cv.findContours(mask, cv.RETR_EXTERNAL, cv.CHAIN_APPROX_SIMPLE)\n",
    "image_contours = image.copy()\n",
    "cv.drawContours(image_contours, contours, -1, overlay_color, line_width)\n",
    "tools.show_image_chain((image, image_contours), titles=(\"Input\", \"Contours\"))"
   ]
  },
  {
   "cell_type": "markdown",
   "metadata": {},
   "source": [
    "An advanced example: We can colorize the different contours with different colors.\n",
    "\n",
    "Strategy:\n",
    "- Use connected components to label the different regions using integers \n",
    "(every region has a different label)\n",
    "- Assign a different color to different labels by encoding the label in \n",
    "the hue channel (HSV color space!)\n",
    "- Extract contours from the mask (must be a binary image)\n",
    "- Merge draw the contours with the colorized labels onto the original image"
   ]
  },
  {
   "cell_type": "code",
   "execution_count": null,
   "metadata": {},
   "outputs": [],
   "source": [
    "# This will contain the result\n",
    "image_contours = image.copy()\n",
    "\n",
    "# Compute the \"connected components\" (= separate objects in the mask)\n",
    "n_labels, labels = cv.connectedComponents(mask)\n",
    "\n",
    "# Assign a different color to each label in the hue channel (HSV color space)\n",
    "hue = np.uint8(150*labels/np.max(labels))\n",
    "blank = 255*np.ones_like(hue)\n",
    "labels = cv.merge([hue, blank, blank])\n",
    "\n",
    "# Convert from HSV color space to RGB\n",
    "labels = cv.cvtColor(labels, cv.COLOR_HSV2RGB)\n",
    "# Set the background label (labels==0) to black\n",
    "labels[labels==0] = 0\n",
    "\n",
    "# Create a mask of the contours\n",
    "line_width = 1\n",
    "contours, _ = cv.findContours(mask, cv.RETR_EXTERNAL, cv.CHAIN_APPROX_SIMPLE)\n",
    "mask_contours = cv.drawContours(np.zeros_like(mask), contours, -1, 255, line_width)\n",
    "\n",
    "# Assign the colored labels only along the contours\n",
    "image_contours[mask_contours>0] = labels[mask_contours>0]\n",
    "\n",
    "# Display the result\n",
    "tools.show_image_chain((image, image_contours), titles=(\"Input\", \"Labeled contours\"))"
   ]
  },
  {
   "cell_type": "markdown",
   "metadata": {},
   "source": [
    "### How to convert a Jupyter notebook into a PDF:\n",
    "\n",
    "- Don't forget to save this notebook before converting!\n",
    "- Install nbconvert: `pip install nbconvert`\n",
    "- Convert the notebook into a HTML file: `jupyter nbconvert --to html main.ipynb`  \n",
    "  The file will be saved in the same folder as this Jupyter notebook\n",
    "- Open the HTML in a browser and print (or save) it as a PDF\n",
    "- Recommendation: If you use the Opera browser, you can save the HTML as single-page PDF. This looks the best!"
   ]
  },
  {
   "cell_type": "code",
   "execution_count": null,
   "metadata": {},
   "outputs": [],
   "source": [
    "# Make sure you save this notebook, otherwise the HTML \n",
    "# output will not contain the latest version!!\n",
    "\n",
    "# Make sure you have nbcovnert installed\n",
    "!pip install nbconvert --quiet\n",
    "# Save the notebook as HTML\n",
    "!jupyter nbconvert --to html main.ipynb\n"
   ]
  }
 ],
 "metadata": {
  "kernelspec": {
   "display_name": "venv-msls-co4",
   "language": "python",
   "name": "python3"
  },
  "language_info": {
   "codemirror_mode": {
    "name": "ipython",
    "version": 3
   },
   "file_extension": ".py",
   "mimetype": "text/x-python",
   "name": "python",
   "nbconvert_exporter": "python",
   "pygments_lexer": "ipython3",
   "version": "3.10.5"
  }
 },
 "nbformat": 4,
 "nbformat_minor": 2
}
