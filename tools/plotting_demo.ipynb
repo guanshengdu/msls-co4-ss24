{
 "cells": [
  {
   "cell_type": "code",
   "execution_count": null,
   "metadata": {},
   "outputs": [],
   "source": [
    "import numpy as np\n",
    "import matplotlib.pyplot as plt\n",
    "import cv2 as cv\n",
    "import PIL\n",
    "\n",
    "# Jupyter / IPython configuration:\n",
    "# Automatically reload modules when modified\n",
    "%load_ext autoreload\n",
    "%autoreload 2\n",
    "\n",
    "# Enable vectorized output (for nicer plots)\n",
    "%config InlineBackend.figure_formats = [\"svg\"]\n",
    "\n",
    "# Inline backend configuration\n",
    "%matplotlib inline\n",
    "\n",
    "# Enable this line if you want to use the interactive widgets\n",
    "# It requires the ipympl package to be installed.\n",
    "#%matplotlib widget\n",
    "\n",
    "import sys\n",
    "sys.path.insert(0, \"../\")\n",
    "import isp\n"
   ]
  },
  {
   "cell_type": "code",
   "execution_count": null,
   "metadata": {},
   "outputs": [],
   "source": [
    "# Read in data\n",
    "path = \"../data/images/kingfisher.jpg\"\n",
    "img1 = cv.imread(path, cv.IMREAD_COLOR)\n",
    "img1 = cv.cvtColor(img1, cv.COLOR_BGR2RGB)\n",
    "img2 = img1[::2, ::2]\n",
    "img3 = img1[::4, ::4]\n",
    "gray = cv.cvtColor(img1, cv.COLOR_RGB2GRAY)"
   ]
  },
  {
   "cell_type": "code",
   "execution_count": null,
   "metadata": {},
   "outputs": [],
   "source": [
    "# Display images at original size, no frame, no title\n",
    "# Uses IPython.display()\n",
    "isp.display_image(img1)"
   ]
  },
  {
   "cell_type": "code",
   "execution_count": null,
   "metadata": {},
   "outputs": [],
   "source": [
    "# Display image can also take a path to an image.\n",
    "# Should otherwise behave the same as above.\n",
    "isp.display_image(path)"
   ]
  },
  {
   "cell_type": "code",
   "execution_count": null,
   "metadata": {},
   "outputs": [],
   "source": [
    "# It is possible to display the image with a scale factor\n",
    "isp.display_image(img1, scale=0.5)"
   ]
  },
  {
   "cell_type": "code",
   "execution_count": null,
   "metadata": {},
   "outputs": [],
   "source": [
    "# Display images at original size, with frame and info\n",
    "# TODO: Why is frame missing?\n",
    "isp.show_image(img1)\n",
    "isp.show_image(img1, title=\"Kingfisher\")\n",
    "isp.show_image(img1, title=\"Kingfisher\", suppress_info=True)\n",
    "isp.show_image(img1, frame=True)"
   ]
  },
  {
   "cell_type": "code",
   "execution_count": null,
   "metadata": {},
   "outputs": [],
   "source": [
    "# Show figure using a certain DPI (roughly)\n",
    "print(\"Image size:\", img1.shape)\n",
    "isp.show_image(img1, suppress_info=True, dpi=200)\n",
    "print(\"DPI=200:   \", tuple(plt.gcf().get_size_inches()))\n",
    "\n",
    "isp.show_image(img1, suppress_info=True, dpi=400)\n",
    "print(\"DPI=400:   \", tuple(plt.gcf().get_size_inches()))"
   ]
  },
  {
   "cell_type": "code",
   "execution_count": null,
   "metadata": {},
   "outputs": [],
   "source": [
    "# Compare two images. By default, the largest image dimensions are used to \n",
    "# show the images side by side at the same scale.\n",
    "isp.show_image_pair(img1, img2, title1=\"Original\", title2=\"Downsampled 2x\")\n",
    "\n",
    "isp.show_image_pair(img1.transpose([1,0,2]), img2, \n",
    "                    title1=\"Original\", title2=\"Downsampled 2x\",\n",
    "                    box_aspect=1)\n",
    "\n",
    "isp.show_image_pair(img1.transpose([1,0,2]), img2, \n",
    "                    title1=\"Original\", title2=\"Downsampled 2x\",\n",
    "                    box_aspect=1, \n",
    "                    frame=True, frame_color=\"red\", frame_width=3)\n",
    "\n",
    "isp.show_image_pair(img1.transpose([1,0,2]), img2, \n",
    "                    title1=\"Original\", title2=\"Downsampled 2x\",\n",
    "                    box_aspect=1, \n",
    "                    frame=\"forced\", frame_color=\"limegreen\", frame_width=3,\n",
    "                    background_color=None)"
   ]
  },
  {
   "cell_type": "code",
   "execution_count": null,
   "metadata": {},
   "outputs": [],
   "source": [
    "isp.show_image_pair(img1, img3, \n",
    "                    title1=\"Original\", title2=\"Downsampled 4x\", \n",
    "                    shape=None)\n",
    "\n",
    "isp.show_image_pair(img1, img3.transpose([1,0,2]), \n",
    "                    title1=\"Original\", title2=\"Downsampled 4x, transposed\",\n",
    "                    shape=None, box_aspect=1)"
   ]
  },
  {
   "cell_type": "code",
   "execution_count": null,
   "metadata": {},
   "outputs": [],
   "source": [
    "# Create a grid of images\n",
    "def random_crop(image):\n",
    "    h, w = image.shape[:2]\n",
    "    s_min = min(h, w, 100)\n",
    "    roi_w = np.random.randint(s_min, w)\n",
    "    roi_h = np.random.randint(s_min, h)\n",
    "    roi_x = np.random.randint(0, w-roi_w)\n",
    "    roi_y = np.random.randint(0, h-roi_h)\n",
    "    return image[roi_y:roi_y+roi_h, roi_x:roi_x+roi_w]\n",
    "\n",
    "np.random.seed(42)\n",
    "imgs = [random_crop(img1) for _ in range(8)]\n",
    "titles = [\"Crop %d\" % (i+1) for i in range(8)]\n",
    "isp.show_image_grid(imgs, titles=titles)\n",
    "isp.show_image_grid(imgs, titles=titles, suppress_info=True)\n",
    "isp.show_image_grid(imgs, titles=titles, shape=None)\n",
    "isp.show_image_grid(imgs, titles=titles, shape=None, box_aspect=1)\n",
    "isp.show_image_grid(imgs, titles=titles, shape=None, box_aspect=1, \n",
    "                    background_color=None, \n",
    "                    frame=\"forced\", \n",
    "                    frame_color=\"red\", \n",
    "                    frame_width=3)"
   ]
  }
 ],
 "metadata": {
  "kernelspec": {
   "display_name": "venv-isp-fs24",
   "language": "python",
   "name": "python3"
  },
  "language_info": {
   "codemirror_mode": {
    "name": "ipython",
    "version": 3
   },
   "file_extension": ".py",
   "mimetype": "text/x-python",
   "name": "python",
   "nbconvert_exporter": "python",
   "pygments_lexer": "ipython3",
   "version": "3.10.5"
  }
 },
 "nbformat": 4,
 "nbformat_minor": 2
}
