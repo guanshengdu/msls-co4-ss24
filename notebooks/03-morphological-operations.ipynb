{
 "cells": [
  {
   "cell_type": "markdown",
   "metadata": {},
   "source": [
    "# **Morphological operations**\n",
    "\n",
    "In this notebook, we demonstrate the effects of morphological operations.\n",
    "\n",
    "Morphological operations are basic image operations that process images based on shapes. A morphological operation \n",
    "requires two inputs: an input image and a structuring element. The structuring element is a (usually binary) image that specifies \n",
    "the neighborhood used to process each pixel in the input image. It represents the shape of the operation to be performed. \n",
    "The illustration below shows common structuring elments. \n",
    "\n",
    "![Common structuring elements](../data/doc/structuring-elements-2d.svg)  \n",
    "**Figure 1**: Common structuring elements.\n",
    "\n",
    "Similar to the kernels in a convolution, the structuring element is swept across the input image. However, the operations performed are different. Instead of multiplying and summing the pixel values, the morphological operations are based on set theory and logical operations (intersection, union, complement, etc.). \n",
    "\n",
    "For instance, the **erosion** operation (see below) computes the intersection of the image and the shifted structuring element: Only if all forground pixels (value=1) in the structuring element at a certain position overlap with forground pixels in the input image, the pixel value in the output image is set to 1 for this position, see Figure 2 Likewise, the **dilation** operation computes the union of the image and the shifted structuring element: If at least one forground pixel in the structuring element overlaps with a forground pixel in the input image, the pixel value in the output image is set to 1 for this position, see Figure 3.\n",
    "\n",
    "![Binary erosion](../data/doc/binary-erosion.svg)  \n",
    "**Figure 2**: Binary erosion of an input image (1) using a circular structuring element (2). Subfigures (3) and (4) show the result.\n",
    "\n",
    "![Binary dilation](../data/doc/binary-dilation.svg)  \n",
    "**Figure 2**: Binary dilation of an input image (1) using a circular structuring element (2). Subfigures (3) and (4) show the result.\n",
    "\n",
    "Morphological operations are used for a variety of image processing tasks, such as removing noise, isolating individual elements, and enhancing features. Here, we will cover some elementary morphological operations: dilation, erosion, opening, and closing. Instead of providing formal definitions of these operations, we will explore them through examples.\n",
    "\n",
    "\n",
    "Credits: This notebook follows a tutorial from pyimagesearch, written by Adrian Rosebrock. [Link](https://pyimagesearch.com/2021/04/28/opencv-morphological-operations/)"
   ]
  },
  {
   "cell_type": "markdown",
   "metadata": {},
   "source": [
    "---\n",
    "\n",
    "## **Preparations**\n",
    "\n",
    "The usual preparations... Before we begin, let's load some drawing functions for rendering images effortlessly in this Jupyter notebook."
   ]
  },
  {
   "cell_type": "code",
   "execution_count": null,
   "metadata": {},
   "outputs": [],
   "source": [
    "import sys\n",
    "import cv2 as cv\n",
    "import numpy as np\n",
    "import matplotlib.pyplot as plt\n",
    "\n",
    "# Enable vectorized output (for nicer plots)\n",
    "%config InlineBackend.figure_formats = [\"svg\"]\n",
    "\n",
    "# Inline backend configuration\n",
    "%matplotlib inline\n",
    "\n",
    "# Functionality related to this course\n",
    "sys.path.append(\"..\")\n",
    "import tools as isp\n",
    "\n",
    "# Jupyter / IPython configuration:\n",
    "# Automatically reload modules when modified\n",
    "%load_ext autoreload\n",
    "%autoreload 2"
   ]
  },
  {
   "cell_type": "markdown",
   "metadata": {},
   "source": [
    "---\n",
    "\n",
    "## **Examplary image data**\n",
    "\n",
    "In the following we use a (binary) image displaying some text. Furthermore, we add some noise to the image.\n",
    "\n",
    "Recall that a binary image is an image with only two possible values for each pixel. Depending on the image type, these values are often 0 and 1 (`dtype=bool`), or 0 and 255 (`dtype=np.uint8`). As the morphological operations provided by OpenCV assume images of `dtype=np.uint8`, we go with the latter option. \n",
    "\n",
    "Note that the morphological operations are also defined for grayscale and even color images, but for now let's assume binary images.\n"
   ]
  },
  {
   "cell_type": "code",
   "execution_count": null,
   "metadata": {},
   "outputs": [],
   "source": [
    "def sample_border(w, h, margin, inside=False):\n",
    "    while True:\n",
    "        x = np.random.randint(0, w)\n",
    "        y = np.random.randint(0, h)\n",
    "        is_valid = ((x < margin) or (x >= (w - margin)) \n",
    "                    or (y < margin) or (y >= h - margin))\n",
    "        if inside:\n",
    "            is_valid = not is_valid\n",
    "        if is_valid:\n",
    "            return x, y\n",
    "\n",
    "# Read in the image and invert it\n",
    "img = cv.imread(\"../data/images/word-ice-cream.png\", cv.IMREAD_GRAYSCALE)\n",
    "img = 255 - img\n",
    "\n",
    "# Add dots of noise such that they do not overlap with the text.\n",
    "h, w = img.shape\n",
    "img_noisy_w = img.copy()  # Image with white spots\n",
    "img_noisy_b = img.copy()  # Image with black spots\n",
    "np.random.seed(1)\n",
    "for i in range(50):\n",
    "    x, y = sample_border(w, h, 20)\n",
    "    r = np.random.randint(1, 4)\n",
    "    cv.circle(img_noisy_w, (x, y), r, 255, -1, lineType=cv.LINE_AA)\n",
    "for i in range(400):\n",
    "    x, y = sample_border(w, h, 20, inside=True)\n",
    "    cv.circle(img_noisy_b, (x, y), 1, 0, -1, lineType=cv.LINE_AA)\n",
    "\n",
    "# Display the image\n",
    "isp.show_image_chain([img, img_noisy_w, img_noisy_b], \n",
    "                     titles=[\"Input image\", \n",
    "                             \"Image with white spots\", \n",
    "                             \"Image with black spots\"], \n",
    "                     suppress_info=True);\n",
    "\n"
   ]
  },
  {
   "cell_type": "markdown",
   "metadata": {},
   "source": [
    "---\n",
    "\n",
    "## **Erosion**\n",
    "\n",
    "Just like the name suggests, it erodes the image. Erosion is useful for removing small blobs in an image or by thinning the visible structures.\n",
    "\n",
    "Erosion works by defining a structuring element and then sliding this structuring element from left-to-right and top-to-bottom across the input image. A foreground pixel in the input image will be kept only if all pixels inside the structuring element are > 0. Otherwise, the pixels are set to 0 (i.e., background). If the image was grayscale, the minimum value would be taken instead of 0.\n",
    "\n",
    "Note how the small white spots are removed by the erosion operation and the letters are thinned."
   ]
  },
  {
   "cell_type": "code",
   "execution_count": null,
   "metadata": {},
   "outputs": [],
   "source": [
    "# Note: We can specify our own structuring element (SE), \n",
    "# but we can also use the default one (3x3 square).\n",
    "#se = np.ones((5, 5), np.uint8)\n",
    "se = None\n",
    "\n",
    "results = {}\n",
    "results[\"Original\"] = img_noisy_w\n",
    "for i in range(1, 4):\n",
    "    result = cv.erode(img_noisy_w, se, iterations=i)\n",
    "    results[f\"Eroded ({i} iterations)\"] = result\n",
    "    \n",
    "isp.show_image_grid(results, suppress_info=True, ncols=1, figsize=(6, 7));\n",
    "#isp.save_figure(path=\"morpho-erosion.png\")"
   ]
  },
  {
   "cell_type": "markdown",
   "metadata": {},
   "source": [
    "---\n",
    "\n",
    "## **Dilation**\n",
    "\n",
    "Dilation is the opposite of erosion. In contrast to erosion, dilation expands the boundaries of the foreground object in an image. Dilations increase the size of foreground objects and are especially useful for joining broken parts of an image together.\n",
    "\n",
    "Dilations also utilize structuring elements (\"kernels\"). A center pixel is set to white if at least one pixel in the structuring element is > 0. (If the image is grayscale, the maximum value is taken.)"
   ]
  },
  {
   "cell_type": "code",
   "execution_count": null,
   "metadata": {},
   "outputs": [],
   "source": [
    "se = None  # Default structuring element, but you can specify your own\n",
    "results = {}\n",
    "results[\"Original\"] = img_noisy_b\n",
    "for i in range(1, 4):\n",
    "    results[f\"Dilated ({i} iterations)\"] = cv.dilate(img_noisy_b, se, iterations=i)\n",
    "    \n",
    "isp.show_image_grid(results, suppress_info=True, ncols=1, figsize=(6, 7));\n",
    "#isp.save_figure(path=\"morpho-dilation.png\")"
   ]
  },
  {
   "cell_type": "markdown",
   "metadata": {},
   "source": [
    "Note that erosion and dilation are dual operations: If we apply erosion to the inverted image, we get the same result as applying dilation to the original image. The following code illustrates this behavior:"
   ]
  },
  {
   "cell_type": "code",
   "execution_count": null,
   "metadata": {},
   "outputs": [],
   "source": [
    "se = np.ones((5, 5), np.uint8)\n",
    "img_dilated = cv.dilate(img, se, iterations=1)\n",
    "img_eroded = 255 - cv.erode(255-img, se, iterations=1)\n",
    "img_diff = img_dilated - img_eroded\n",
    "print(\"Test: The difference between dilated image and eroded complement of the image should be zero:\")\n",
    "print(\"      Measured difference = %d\" % np.abs(img_diff).sum())"
   ]
  },
  {
   "cell_type": "markdown",
   "metadata": {},
   "source": [
    "---\n",
    "\n",
    "## **Opening**\n",
    "\n",
    "An opening is an erosion followed by a dilation.\n",
    "\n",
    "Performing an opening operation allows us to remove small blobs from an image, without affecting the overall shape of the larger blobs too much: First an erosion is applied to remove the small blobs, then a dilation is applied to regrow the size of the original object.\n",
    "\n",
    "\n",
    "In this example, we constructed our own structuring element. OpenCV provides a function for this:\n",
    "`cv.getStructuringElement(type, size)` where `type` is one of `cv.MORPH_RECT`, `cv.MORPH_CROSS`, `cv.MORPH_ELLIPSE`,\n",
    "and `size` is the size of the structuring element. A structuring element is similar to a convolution kernel, but it is used for morphological operations which have a different operation logic than kernels used in a convolution operation.\n",
    "\n",
    "Note how we can remove the white spots with a dilation operation. The larger the kernel, the larger the spots can be removed. At the same time, the shape of the mask may brake in thin places.\n",
    "\n",
    "\n"
   ]
  },
  {
   "cell_type": "code",
   "execution_count": null,
   "metadata": {},
   "outputs": [],
   "source": [
    "sizes = [(3, 3), (5, 5), (7, 7)]\n",
    "results = {}\n",
    "results[\"Original\"] = img_noisy_w\n",
    "for i, size in enumerate(sizes):\n",
    "    # Construct a rectangular structuring elmenet from the current size and then\n",
    "    # apply an \"opening\" operation\n",
    "    se = cv.getStructuringElement(cv.MORPH_ELLIPSE, size)\n",
    "    ret = cv.morphologyEx(img_noisy_w, cv.MORPH_OPEN, se, iterations=1)\n",
    "    results[\"Opening (structuring element: %dx%d)\" % size] = ret\n",
    "    \n",
    "isp.show_image_grid(results, suppress_info=True, ncols=1, figsize=(6, 7));\n",
    "#isp.save_figure(path=\"morpho-opening.png\")"
   ]
  },
  {
   "cell_type": "markdown",
   "metadata": {},
   "source": [
    "---\n",
    "\n",
    "## **Closing**\n",
    "\n",
    "The opposite to an opening would be a closing. A closing is a dilation followed by an erosion. \n",
    "\n",
    "As the name suggests, a closing is used to close holes inside of objects or for connecting components together. We can use the same code as above, and just need to change the type of operation.\n"
   ]
  },
  {
   "cell_type": "code",
   "execution_count": null,
   "metadata": {},
   "outputs": [],
   "source": [
    "sizes = [(3, 3), (5, 5), (7, 7)]\n",
    "results = {}\n",
    "results[\"Original\"] = img_noisy_b\n",
    "for size in sizes:\n",
    "    # Construct a rectangular structuring element from the current size and then\n",
    "    # apply an \"opening\" operation\n",
    "    se = cv.getStructuringElement(cv.MORPH_ELLIPSE, size)\n",
    "    ret = cv.morphologyEx(img_noisy_b, cv.MORPH_CLOSE, se, iterations=1)\n",
    "    results[\"Closing (structuring element: %dx%d)\" % size] = ret\n",
    "    \n",
    "isp.show_image_grid(results, suppress_info=True, ncols=1, figsize=(6, 7));\n",
    "#isp.save_figure(path=\"morpho-closing.png\")"
   ]
  },
  {
   "cell_type": "markdown",
   "metadata": {},
   "source": [
    "---\n",
    "\n",
    "## **Morphological gradient**\n",
    "\n",
    "A morphological gradient is the difference between a dilation and erosion. It is useful for determining the outline of a particular object of an image.\n",
    "\n",
    "We still use the same code as above."
   ]
  },
  {
   "cell_type": "code",
   "execution_count": null,
   "metadata": {},
   "outputs": [],
   "source": [
    "sizes = [(3, 3), (5, 5), (7, 7)]\n",
    "results = {}\n",
    "results[\"Original\"] = img\n",
    "for size in sizes:\n",
    "    # Construct a rectangular structuring element from the current size and then\n",
    "    # apply an \"opening\" operation\n",
    "    se = cv.getStructuringElement(cv.MORPH_RECT, size)\n",
    "    ret = cv.morphologyEx(img, cv.MORPH_GRADIENT, se, iterations=1)\n",
    "    results[\"Gradient (structuring element: %dx%d)\" % size] = ret\n",
    "    \n",
    "isp.show_image_grid(results, suppress_info=True, ncols=1, figsize=(6, 7));\n",
    "#isp.save_figure(path=\"morpho-closing.png\")"
   ]
  },
  {
   "cell_type": "markdown",
   "metadata": {},
   "source": [
    "---\n",
    "\n",
    "## **Morphological operations and grayscale images**\n",
    "\n",
    "Up until this point we have applied morphological operations only to binary images. But the above operations are also defined for grayscale (and even color) images. \n",
    "\n",
    "Let's have look at an MRI image from the brain. (Source: [Radiopaedia](https://radiopaedia.org/cases/normal-brain-mri-6))\n"
   ]
  },
  {
   "cell_type": "code",
   "execution_count": null,
   "metadata": {},
   "outputs": [],
   "source": [
    "img_mri = cv.imread(\"../data/images/brain-mri/brain-mri-a-t2-dark.jpg\", cv.IMREAD_GRAYSCALE)\n",
    "\n",
    "size = (3, 3)\n",
    "se = cv.getStructuringElement(cv.MORPH_RECT, size)\n",
    "erode = cv.morphologyEx(img_mri, cv.MORPH_ERODE, se, iterations=5)\n",
    "dilate = cv.morphologyEx(img_mri, cv.MORPH_DILATE, se, iterations=5)\n",
    "opening = cv.morphologyEx(img_mri, cv.MORPH_OPEN, se, iterations=5)\n",
    "closing = cv.morphologyEx(img_mri, cv.MORPH_CLOSE, se, iterations=5)\n",
    "gradient = cv.morphologyEx(img_mri, cv.MORPH_GRADIENT, se, iterations=3)\n",
    "\n",
    "size = (11, 11)\n",
    "se = cv.getStructuringElement(cv.MORPH_RECT, size)\n",
    "tophat = cv.morphologyEx(img_mri, cv.MORPH_TOPHAT, se, iterations=1)\n",
    "\n",
    "size = (25, 25)\n",
    "se = cv.getStructuringElement(cv.MORPH_RECT, size)\n",
    "blackhat = cv.morphologyEx(img_mri, cv.MORPH_BLACKHAT, se, iterations=1)\n",
    "\n",
    "results = {\n",
    "    \"Original\": img_mri,\n",
    "    \"Erosion\": erode,\n",
    "    \"Dilation\": dilate,\n",
    "    \"Opening\": opening,\n",
    "    \"Closing\": closing,\n",
    "    \"Gradient\": gradient,\n",
    "    \"Top-hat\": tophat,\n",
    "    \"Black-hat\": blackhat\n",
    "}\n",
    "\n",
    "isp.show_image_grid(results, suppress_info=True, ncols=3, figsize=(9, 7));\n",
    "#isp.save_figure(path=\"morpho-closing-grayscale.png\")"
   ]
  },
  {
   "cell_type": "markdown",
   "metadata": {},
   "source": [
    "## **Top-hat (white-hat) and bottom-hat (black-hat)**\n",
    "\n",
    "Both the top-hat (white-hat) and the bottom-hat (black-hat) operators are more suited for grayscale images rather than binary ones.\n",
    "\n",
    "A top-hat (also known as a white-hat) operation is the difference between the original (grayscale/single channel) input image and the opening.\n",
    "\n",
    "A top-hat operation is used to reveal bright regions of an image on dark background, under the restriction that these objects are smaller than the structuring element. In contrast, a black-hat operation is used to reveal dark regions on bright backgrounds. (However, these operations are only useful if the structures of interest are significantly different in size compared to the structuring element.)\n",
    "\n",
    "A common application for the top-hat operation is to handle uneven illumination in images and to emphasize certain structures of interest.\n",
    "\n",
    "\n"
   ]
  },
  {
   "cell_type": "code",
   "execution_count": null,
   "metadata": {},
   "outputs": [],
   "source": [
    "h, w = img_mri.shape\n",
    "x, y = np.meshgrid(np.arange(w), np.arange(h))\n",
    "gradient = (x - w//2)**2 + (y - h//2)**2\n",
    "gradient = gradient / gradient.max()\n",
    "gradient = (gradient * 200).astype(np.uint8)\n",
    "img_dist = (img_mri//2 + gradient//2)"
   ]
  },
  {
   "cell_type": "code",
   "execution_count": null,
   "metadata": {},
   "outputs": [],
   "source": [
    "sizes = []\n",
    "sizes.append((3,11))\n",
    "sizes.append((11,3))\n",
    "sizes.append((50,100))\n",
    "results = {}\n",
    "results[\"Original\"] = img_mri\n",
    "results[\"Distorted\"] = img_dist\n",
    "results[\"Dummy\"] = None  # Placeholder (just for visualization)\n",
    "for size in sizes:\n",
    "    se = cv.getStructuringElement(cv.MORPH_RECT, size)\n",
    "    ret = cv.morphologyEx(img_dist, cv.MORPH_TOPHAT, se, iterations=1)\n",
    "    label = \"Top-hat (kernel: %dx%d)\" % size\n",
    "    results[label] = ret\n",
    "\n",
    "isp.show_image_grid(results, suppress_info=True, ncols=3, figsize=(9, 7));"
   ]
  }
 ],
 "metadata": {
  "kernelspec": {
   "display_name": "venv-isp-fs24",
   "language": "python",
   "name": "python3"
  },
  "language_info": {
   "codemirror_mode": {
    "name": "ipython",
    "version": 3
   },
   "file_extension": ".py",
   "mimetype": "text/x-python",
   "name": "python",
   "nbconvert_exporter": "python",
   "pygments_lexer": "ipython3",
   "version": "3.10.5"
  }
 },
 "nbformat": 4,
 "nbformat_minor": 2
}
