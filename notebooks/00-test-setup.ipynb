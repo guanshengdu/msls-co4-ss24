{
 "cells": [
  {
   "cell_type": "markdown",
   "id": "ab12ec7d",
   "metadata": {},
   "source": [
    "# **Test the setup**\n",
    "\n",
    "Use this notebook to check your Python environment."
   ]
  },
  {
   "cell_type": "markdown",
   "id": "3101de0b",
   "metadata": {},
   "source": [
    "## **Print system summary**\n",
    "\n",
    "If you have problems with your Python setup, let the tutor know. Be sure to copy the output of the code below, which will help in finding a solution."
   ]
  },
  {
   "cell_type": "code",
   "execution_count": null,
   "id": "50771741",
   "metadata": {},
   "outputs": [],
   "source": [
    "# Jupyter / IPython configuration:\n",
    "# Automatically reload modules when modified\n",
    "%load_ext autoreload\n",
    "%autoreload 2\n",
    "\n",
    "import sys\n",
    "sys.path.append(\"..\")\n",
    "from tools.system_info import print_system_info\n",
    "\n",
    "print_system_info()"
   ]
  },
  {
   "cell_type": "markdown",
   "id": "9052f8bb",
   "metadata": {},
   "source": [
    "## **Tested environment**\n",
    "\n",
    "For reference: The tutor has tested the code in the below environment. It is expected that most of the examples will also run for older and newer versions of the packages. If you encounter compatibility issues, please report the problem as an issue in the Github repository.\n",
    "```lang-none\n",
    "\n",
    "        Python : 3.10.5\n",
    "         numpy : 1.26.4\n",
    "         scipy : 1.12.0\n",
    "        pandas : 2.2.0\n",
    "    matplotlib : 3.8.3\n",
    "       seaborn : 0.13.2\n",
    "  OpenCV (cv2) : 4.9.0\n",
    "  Pillow (PIL) : 10.2.0\n",
    "       skimage : 0.22.0\n",
    "     soundfile : 0.12.1\n",
    "   sounddevice : 0.4.6\n",
    "       jupyter : 1.0.0\n",
    "```"
   ]
  },
  {
   "cell_type": "markdown",
   "id": "a9702568",
   "metadata": {},
   "source": [
    "## **Run a minimal example**\n",
    "\n",
    "Read and display an image. If you see the image seen [here](../data/imaging4ls-logo-1.jpg), you're good to go. :)"
   ]
  },
  {
   "cell_type": "code",
   "execution_count": null,
   "id": "407eeddc",
   "metadata": {},
   "outputs": [],
   "source": [
    "import cv2 as cv\n",
    "import tools\n",
    "\n",
    "img = cv.imread(\"../data/imaging4ls-logo-1.jpg\", cv.IMREAD_COLOR)\n",
    "img = cv.cvtColor(img, cv.COLOR_BGR2RGB)\n",
    "tools.show_image(img, title=\"Success!\")"
   ]
  }
 ],
 "metadata": {
  "kernelspec": {
   "display_name": "Python 3",
   "language": "python",
   "name": "python3"
  },
  "language_info": {
   "codemirror_mode": {
    "name": "ipython",
    "version": 3
   },
   "file_extension": ".py",
   "mimetype": "text/x-python",
   "name": "python",
   "nbconvert_exporter": "python",
   "pygments_lexer": "ipython3",
   "version": "3.10.5"
  }
 },
 "nbformat": 4,
 "nbformat_minor": 5
}
