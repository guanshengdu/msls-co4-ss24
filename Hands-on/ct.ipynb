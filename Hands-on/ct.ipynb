{
 "cells": [
  {
   "cell_type": "markdown",
   "metadata": {},
   "source": [
    "<h4> CO4: Imaging for the Life Sciences </h4>\n",
    "<h2>Computed Tomography</h2>\n"
   ]
  },
  {
   "cell_type": "markdown",
   "metadata": {},
   "source": [
    "<h4>1. Backprojection</h4>\n",
    "\n",
    "Complete the given function named *backprojection*, that takes a sinogram as the argument and computes its backprojection."
   ]
  },
  {
   "cell_type": "code",
   "execution_count": null,
   "metadata": {},
   "outputs": [],
   "source": [
    "import numpy as np\n",
    "import matplotlib.pyplot as plt\n",
    "from IPython import display\n",
    "\n",
    "def backprojection(sinogram):\n",
    "    \"\"\"\n",
    "    Computes a backprojection for a given sinogram\n",
    "\n",
    "    Parameters:\n",
    "    - sinogram: 2D numpy array containing the sinogram\n",
    "    \"\"\"\n",
    "\n",
    "    # get number of projections (=rows) and angles (=columns)\n",
    "    n_proj, n_angles = ?\n",
    "    print(n_proj, n_angles)\n",
    "\n",
    "    # create a grid of coordinates representing the image space with origin in the center\n",
    "    coord_vector = np.linspace(1, n_proj, n_proj) - n_proj // 2\n",
    "    x, y = np.meshgrid(coord_vector, coord_vector)\n",
    "\n",
    "    # get list of angles (in radians)\n",
    "    # hint: the angles are equidistantly spaced between 0 and 180 degrees\n",
    "    angles = ?\n",
    "\n",
    "    # initialize a 2D array to store the backprojection\n",
    "    backproj = np.zeros((n_proj, n_proj))\n",
    "    \n",
    "    # iterate over all angles\n",
    "    for i, angle in enumerate(angles):\n",
    "\n",
    "        # compute the projection line\n",
    "        x1 = x * np.cos(angle) + y * np.sin(angle)\n",
    "        x1 = x1 + n_proj // 2 # shift to image indices\n",
    "\n",
    "        # interpolate the sinogram values\n",
    "        proj = np.interp(x1, np.arange(n_proj), sinogram[:, i])\n",
    "\n",
    "        # add the current projection to the backprojection\n",
    "        # (summing up the projections for all angles)\n",
    "        backproj += ?\n",
    "\n",
    "        # display progress (show every 10th angle)\n",
    "        if i % 10 == 0:\n",
    "            display.clear_output(wait=True)\n",
    "            plt.imshow(backproj, cmap=\"gray\")\n",
    "            plt.axis(\"off\")\n",
    "            display.display(plt.gcf())\n",
    "\n",
    "    # normalize the backprojection\n",
    "    # hint: the backprojection should be normalized by the number of angles\n",
    "    backproj = ?\n",
    "\n",
    "    # display the backprojection    \n",
    "    display.clear_output(wait=True)\n",
    "    plt.imshow(backproj, cmap=\"gray\")\n",
    "    plt.axis(\"off\")\n",
    "    # display.display(plt.gcf())\n"
   ]
  },
  {
   "cell_type": "markdown",
   "metadata": {},
   "source": [
    "Apply the backprojection to the sinogram named *sinogram180.png* provided on Moodle."
   ]
  },
  {
   "cell_type": "code",
   "execution_count": null,
   "metadata": {},
   "outputs": [],
   "source": [
    "import matplotlib.image as mpimg\n",
    "\n",
    "# load sinogram\n",
    "?\n",
    "\n",
    "# compute backprojection\n",
    "?"
   ]
  },
  {
   "cell_type": "markdown",
   "metadata": {},
   "source": [
    "<h4>2. Windowing</h4>\n",
    "\n",
    "Download CT data of Covid19 patients from:<br>\n",
    "\"COVID19-CT-Dataset: An Open-Access Chest CT Image Repository of 1000+ Patients with Confirmed COVID-19 Diagnosis\" (Harvard Dataverse)<br>\n",
    "--> https://dataverse.harvard.edu/dataset.xhtml?persistentId=doi:10.7910/DVN/6ACUZJ\n",
    "\n",
    "*Note: Only download the data of **Subject (1)***"
   ]
  },
  {
   "cell_type": "markdown",
   "metadata": {},
   "source": [
    "The following function loads a DICOM image using the Python module **pydicom**<br>\n",
    "(*install required modules if necessary*)"
   ]
  },
  {
   "cell_type": "code",
   "execution_count": null,
   "metadata": {},
   "outputs": [],
   "source": [
    "import pydicom\n",
    "\n",
    "def load_dicom_image(file_path):\n",
    "    \"\"\"\n",
    "    Load a DICOM image\n",
    "    \n",
    "    Parameters:\n",
    "    - file_path: Path to the DICOM file\n",
    "    \n",
    "    Returns:\n",
    "    - dicom_image: 2D numpy array representing the DICOM image\n",
    "    \"\"\"\n",
    "\n",
    "    # Load the DICOM file and return it as a numpy array\n",
    "    return pydicom.dcmread(file_path).pixel_array"
   ]
  },
  {
   "cell_type": "markdown",
   "metadata": {},
   "source": [
    "For the next steps the DICOM file with the name \"56364758.dcm\" shall be used. It shows a slice of the torso including both, heart and lung."
   ]
  },
  {
   "cell_type": "code",
   "execution_count": null,
   "metadata": {},
   "outputs": [],
   "source": [
    "import matplotlib.pyplot as plt\n",
    "\n",
    "# load and plot the DICOM image\n",
    "dicom_image = ?\n",
    "plt.imshow(dicom_image, cmap=\"gray\")\n",
    "plt.axis(\"off\")\n",
    "plt.show()"
   ]
  },
  {
   "cell_type": "markdown",
   "metadata": {},
   "source": [
    "Complete the code below to perform windowing."
   ]
  },
  {
   "cell_type": "code",
   "execution_count": null,
   "metadata": {},
   "outputs": [],
   "source": [
    "import numpy as np\n",
    "\n",
    "def apply_windowing(image, window_center, window_width):\n",
    "    \"\"\"\n",
    "    Apply CT windowing to an image.\n",
    "    \n",
    "    Parameters:\n",
    "    - image: 2D numpy array representing the DICOM image\n",
    "    - window_center: Window level (WL)\n",
    "    - window_width: Window width (WW)\n",
    "    \n",
    "    Returns:\n",
    "    - windowed_image: 2D numpy array representing the windowed image\n",
    "    \"\"\"\n",
    "\n",
    "    # Compute the window boundaries\n",
    "    min_value = ?\n",
    "    max_value = ?\n",
    "\n",
    "    # Apply the windowing\n",
    "    windowed_image = np.clip(image, min_value, max_value)\n",
    "    windowed_image = ?  # hint: normalize the image to the range [0, 255]\n",
    "    return windowed_image"
   ]
  },
  {
   "cell_type": "markdown",
   "metadata": {},
   "source": [
    "Apply the *bone window* and the *lung window* to the selected image and plot the result."
   ]
  },
  {
   "cell_type": "code",
   "execution_count": null,
   "metadata": {},
   "outputs": [],
   "source": [
    "# Specify window level and window width for bone window\n",
    "window_center = 1000  # predefined WL for bone window\n",
    "window_width = 2500   # predefined WW for bone window\n",
    "\n",
    "# Apply windowing to the DICOM image\n",
    "windowed_image = ?\n",
    "\n",
    "# plot\n",
    "?"
   ]
  },
  {
   "cell_type": "code",
   "execution_count": null,
   "metadata": {},
   "outputs": [],
   "source": [
    "# Specify window level and window width for lung window\n",
    "window_center = -600  # predefined WL for lung window\n",
    "window_width = 1900   # predefined WW for lung window\n",
    "\n",
    "# Apply windowing to the DICOM image\n",
    "windowed_image = ?\n",
    "\n",
    "# plot\n",
    "?"
   ]
  }
 ],
 "metadata": {
  "kernelspec": {
   "display_name": "Python 3",
   "language": "python",
   "name": "python3"
  },
  "language_info": {
   "codemirror_mode": {
    "name": "ipython",
    "version": 3
   },
   "file_extension": ".py",
   "mimetype": "text/x-python",
   "name": "python",
   "nbconvert_exporter": "python",
   "pygments_lexer": "ipython3",
   "version": "3.12.0"
  }
 },
 "nbformat": 4,
 "nbformat_minor": 2
}
