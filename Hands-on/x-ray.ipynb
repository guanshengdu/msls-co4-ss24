{
 "cells": [
  {
   "cell_type": "markdown",
   "metadata": {},
   "source": [
    "<h4> CO4: Imaging for the Life Sciences </h4>\n",
    "<h2>X-ray</h2>\n"
   ]
  },
  {
   "cell_type": "markdown",
   "metadata": {},
   "source": [
    "<h4>1. Plot X-ray images</h4>\n",
    "\n",
    "Download X-ray data from:<br>\n",
    "\"Chest X-ray dataset for lung segmentation\"<br> --> https://data.mendeley.com/datasets/8gf9vpkhgy/1\n",
    "\n",
    "*Note: Only the data **Shenzen.zip** is needed*"
   ]
  },
  {
   "cell_type": "markdown",
   "metadata": {},
   "source": [
    "The following code loads and plots a png-image.\n",
    "\n",
    "Choose and plot some X-ray images."
   ]
  },
  {
   "cell_type": "code",
   "execution_count": null,
   "metadata": {},
   "outputs": [],
   "source": [
    "import matplotlib.pyplot as plt\n",
    "import matplotlib.image as mpimg\n",
    "\n",
    "def load_and_plot_png(file_path):\n",
    "    \"\"\"\n",
    "    Load and plot a PNG image from a given file path.\n",
    "    \n",
    "    Parameters:\n",
    "    - file_path: Path to the PNG file\n",
    "    \"\"\"\n",
    "    # Load the PNG image\n",
    "    img = mpimg.imread(file_path)\n",
    "    \n",
    "    # Plot the image\n",
    "    plt.imshow(img)\n",
    "    plt.axis('off')  # Hide axis\n",
    "    plt.show()\n",
    "\n",
    "# Choose a file path and plot the image\n",
    "file_path=?\n",
    "load_and_plot_png(file_path)"
   ]
  },
  {
   "cell_type": "markdown",
   "metadata": {},
   "source": [
    "<h4>2. Pathologic findings</h4>\n",
    "\n",
    "Choose and plot some X-ray images, where you think there might be pathologic findings."
   ]
  },
  {
   "cell_type": "code",
   "execution_count": null,
   "metadata": {},
   "outputs": [],
   "source": [
    "# Choose a file path and plot the image\n",
    "?\n"
   ]
  },
  {
   "cell_type": "markdown",
   "metadata": {},
   "source": [
    "<h4>3. Attenuation Coefficient and Intensity</h4>\n",
    "\n",
    "The conventional X-ray images (as shown for example above) are based on the attenuation of X-rays. The attenuation coefficient is used in the Beer-Lambert law.\n",
    "\n",
    "Write some code to \n",
    "- a) calculate the relative intensity (=I/I<sub>0</sub>) of a X-ray image and \n",
    "- b) plot it\n",
    "\n",
    "*Note: Assume that the thickness of the whole imaged body is constant with value dx=1*"
   ]
  },
  {
   "cell_type": "code",
   "execution_count": null,
   "metadata": {},
   "outputs": [],
   "source": [
    "import numpy as np\n",
    "import matplotlib.image as mpimg\n",
    "\n",
    "def calculate_relative_intensity(image_path):\n",
    "    \"\"\"\n",
    "    Calculate the relative intensity from a given PNG X-ray image.\n",
    "    \n",
    "    Parameters:\n",
    "    - image_path: Path to the PNG X-ray image (attenuation coefficient image)\n",
    "    \n",
    "    Returns:\n",
    "    - intensity_image: 2D numpy array representing the relative attenuated intensity for each pixel\n",
    "    \"\"\"\n",
    "    # Load the images\n",
    "    img = mpimg.imread(image_path)\n",
    "    \n",
    "    # Calculate the relative intensity image\n",
    "    intensity_image = ?\n",
    "    \n",
    "    return intensity_image\n",
    "\n",
    "# Choose a file path \n",
    "file_path=?\n",
    "\n",
    "# calculate and plot the image\n",
    "?"
   ]
  }
 ],
 "metadata": {
  "kernelspec": {
   "display_name": "Python 3",
   "language": "python",
   "name": "python3"
  },
  "language_info": {
   "codemirror_mode": {
    "name": "ipython",
    "version": 3
   },
   "file_extension": ".py",
   "mimetype": "text/x-python",
   "name": "python",
   "nbconvert_exporter": "python",
   "pygments_lexer": "ipython3",
   "version": "3.8.10"
  }
 },
 "nbformat": 4,
 "nbformat_minor": 2
}
