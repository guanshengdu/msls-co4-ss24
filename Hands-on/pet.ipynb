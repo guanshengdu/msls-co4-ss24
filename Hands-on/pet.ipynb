{
 "cells": [
  {
   "cell_type": "markdown",
   "metadata": {},
   "source": [
    "<h4> CO4: Imaging for the Life Sciences </h4>\n",
    "<h2>PET</h2>\n"
   ]
  },
  {
   "cell_type": "markdown",
   "metadata": {},
   "source": [
    "<h4>1. Load and Plot</h4>\n",
    "\n",
    "Download nuclear imaging data from:<br>\n",
    "\"Y-90 patients PET/CT & SPECT/CT and corresponding contours dataset\" (University of Michigan library)<br> --> https://deepblue.lib.umich.edu/data/concern/data_sets/st74cq55j\n",
    "\n",
    "*Note: Only data of **patient_A** is needed*"
   ]
  },
  {
   "cell_type": "markdown",
   "metadata": {},
   "source": [
    "The following function loads a DICOM image using the Python module **pydicom**<br>\n",
    "(*install required modules if necessary*)"
   ]
  },
  {
   "cell_type": "code",
   "execution_count": null,
   "metadata": {},
   "outputs": [],
   "source": [
    "import pydicom\n",
    "\n",
    "def load_dicom_image(file_path):\n",
    "    \"\"\"\n",
    "    Load a DICOM image\n",
    "    \n",
    "    Parameters:\n",
    "    - file_path: Path to the DICOM file\n",
    "    \n",
    "    Returns:\n",
    "    - dicom_image: 2D numpy array representing the DICOM image\n",
    "    \"\"\"\n",
    "\n",
    "    # Load the DICOM file and return it as a numpy array\n",
    "    return pydicom.dcmread(file_path).pixel_array"
   ]
  },
  {
   "cell_type": "markdown",
   "metadata": {},
   "source": [
    "For the next steps a slice of the torso including the liver is used. For an anatomical inspection, the CT image shall be plotted. Load and plot the following file:\n",
    "- Folder: \"patient_A\"\n",
    "- Subfolder: \"patient.A_ANON82028_CT_2019-08-16_131455_NM.PET.TUMOR.LOC.LIMITED.AREA_CT..3.0..I30f..3.PET_n182__00000\"\n",
    "- File: \"2.16.840.1.114362.1.11854208.23245207756.529809189.1039.535.dcm\""
   ]
  },
  {
   "cell_type": "code",
   "execution_count": null,
   "metadata": {},
   "outputs": [],
   "source": [
    "import matplotlib.pyplot as plt\n",
    "\n",
    "# load and plot the CT image\n",
    "file = ?\n",
    "ct_image = ?\n",
    "plt.imshow(ct_image, cmap=\"gray\")\n",
    "plt.axis(\"off\")\n",
    "plt.show()"
   ]
  },
  {
   "cell_type": "markdown",
   "metadata": {},
   "source": [
    "Next let's have a look at the corresponding PET image. Load and plot the following file:\n",
    "- Folder: \"patient_A\"\n",
    "- Subfolder: \"patient.A_ANON82028_PT_2019-08-16_131455_NM.PET.TUMOR.LOC.LIMITED.AREA_PET.WB.truex.TOF_n122__00000\"\n",
    "- File: \"2.16.840.1.114362.1.11854208.23245207756.529809191.396.826.dcm\""
   ]
  },
  {
   "cell_type": "code",
   "execution_count": null,
   "metadata": {},
   "outputs": [],
   "source": [
    "# load and plot the PET image\n",
    "file = ?\n",
    "pet_image = ?\n",
    "plt.imshow(pet_image, cmap=\"gray\")\n",
    "plt.axis(\"off\")\n",
    "plt.show()"
   ]
  },
  {
   "cell_type": "markdown",
   "metadata": {},
   "source": [
    "<h4>2. Image Fusion</h4>\n",
    "\n",
    "PET/CT images are shown as image \"fusion\", i.e., the CT image is shwon in the background as grayscale image, while the PET image is overlaid as a color image."
   ]
  },
  {
   "cell_type": "markdown",
   "metadata": {},
   "source": [
    "Since it is always a good idea to apply *Windowing* to the CT image, we start with the windowing function:"
   ]
  },
  {
   "cell_type": "code",
   "execution_count": null,
   "metadata": {},
   "outputs": [],
   "source": [
    "import numpy as np\n",
    "\n",
    "def apply_windowing(image, window_center, window_width):\n",
    "    \"\"\"\n",
    "    Apply CT windowing to an image.\n",
    "    \n",
    "    Parameters:\n",
    "    - image: 2D numpy array representing the DICOM image\n",
    "    - window_center: Window level (WL)\n",
    "    - window_width: Window width (WW)\n",
    "    \n",
    "    Returns:\n",
    "    - windowed_image: 2D numpy array representing the windowed image\n",
    "    \"\"\"\n",
    "\n",
    "    # Compute the window boundaries\n",
    "    min_value = window_center - (window_width / 2)\n",
    "    max_value = window_center + (window_width / 2)\n",
    "\n",
    "    # Apply the windowing\n",
    "    windowed_image = np.clip(image, min_value, max_value)\n",
    "    windowed_image = np.round((windowed_image - min_value) / window_width * 255)\n",
    "    return windowed_image"
   ]
  },
  {
   "cell_type": "markdown",
   "metadata": {},
   "source": [
    "Next a function is needed that ensures both images have the same size.<br>The method **zoom** in the Python module **scipy.ndimage** can be used for resizing an image.<br>\n",
    "(*install required modules if necessary*)\n",
    "\n",
    "Complete the code of the following resize-function:"
   ]
  },
  {
   "cell_type": "code",
   "execution_count": null,
   "metadata": {},
   "outputs": [],
   "source": [
    "from scipy.ndimage import zoom\n",
    "\n",
    "def resize_image(target_image, reference_image):\n",
    "    \"\"\"\n",
    "    Resize the target image to match the dimensions of the reference image.\n",
    "    \n",
    "    Parameters:\n",
    "    - target_image: 2D numpy array representing the image to be resized\n",
    "    - reference_image: 2D numpy array representing the reference image\n",
    "    \n",
    "    Returns:\n",
    "    - resized_image: 2D numpy array representing the resized image\n",
    "    \"\"\"\n",
    "    # Calculate the zoom factor\n",
    "    # hint: have a look at the documentation of the zoom function\n",
    "    rows_ratio = ?\n",
    "    cols_ratio = ?\n",
    "    zoom_factor = (rows_ratio, cols_ratio)\n",
    "\n",
    "    # Resize the image\n",
    "    resized_image = zoom(target_image, zoom_factor, order=3)  # order=3 is for cubic interpolation\n",
    "\n",
    "    return resized_image"
   ]
  },
  {
   "cell_type": "markdown",
   "metadata": {},
   "source": [
    "Now all helper functions are ready. Complete the following code to plot a PET/CT \"Fusion Image\": "
   ]
  },
  {
   "cell_type": "code",
   "execution_count": null,
   "metadata": {},
   "outputs": [],
   "source": [
    "# Apply windowing to the CT image\n",
    "window_center = 1000\n",
    "window_width = 2500\n",
    "ct_image_windowed = ?\n",
    "\n",
    "# Normalize the PET image to [0, 1] range\n",
    "pet_image = ?\n",
    "\n",
    "# Resize the PET image to match the CT image's size\n",
    "pet_image = ?\n",
    "\n",
    "# Create the figure and axes\n",
    "fig, ax = plt.subplots()\n",
    "\n",
    "# Display the CT image in grayscale\n",
    "ax.imshow(ct_image_windowed, cmap='gray')\n",
    "\n",
    "# Overlay the PET image in color with transparency\n",
    "ax.imshow(pet_image, cmap='hot', alpha=0.5)  # 'hot' colormap for PET, alpha for transparency\n",
    "\n",
    "# Customize and show the plot\n",
    "plt.axis('off')\n",
    "plt.title('Fused CT and PET Images')\n",
    "plt.show()"
   ]
  }
 ],
 "metadata": {
  "kernelspec": {
   "display_name": "Python 3",
   "language": "python",
   "name": "python3"
  },
  "language_info": {
   "codemirror_mode": {
    "name": "ipython",
    "version": 3
   },
   "file_extension": ".py",
   "mimetype": "text/x-python",
   "name": "python",
   "nbconvert_exporter": "python",
   "pygments_lexer": "ipython3",
   "version": "3.12.0"
  }
 },
 "nbformat": 4,
 "nbformat_minor": 2
}
